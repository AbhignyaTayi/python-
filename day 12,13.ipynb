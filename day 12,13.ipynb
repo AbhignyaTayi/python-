{
 "cells": [
  {
   "cell_type": "markdown",
   "metadata": {},
   "source": [
    "# errors and exception handling\n",
    "- there are three keywords of this:\n",
    "\n",
    "- try\n",
    "- except\n",
    "- finally"
   ]
  },
  {
   "cell_type": "code",
   "execution_count": 1,
   "metadata": {},
   "outputs": [],
   "source": [
    "def add(n1,n2):\n",
    "    print(n1+n2)"
   ]
  },
  {
   "cell_type": "code",
   "execution_count": 2,
   "metadata": {},
   "outputs": [
    {
     "name": "stdout",
     "output_type": "stream",
     "text": [
      "30\n"
     ]
    }
   ],
   "source": [
    "add(10,20)"
   ]
  },
  {
   "cell_type": "code",
   "execution_count": 3,
   "metadata": {},
   "outputs": [],
   "source": [
    "number1 = 10"
   ]
  },
  {
   "cell_type": "code",
   "execution_count": 6,
   "metadata": {},
   "outputs": [
    {
     "name": "stdout",
     "output_type": "stream",
     "text": [
      "please provide a number:20\n"
     ]
    }
   ],
   "source": [
    "number2 = input(\"please provide a number:\")"
   ]
  },
  {
   "cell_type": "code",
   "execution_count": 7,
   "metadata": {},
   "outputs": [
    {
     "ename": "TypeError",
     "evalue": "unsupported operand type(s) for +: 'int' and 'str'",
     "output_type": "error",
     "traceback": [
      "\u001b[0;31m---------------------------------------------------------------------------\u001b[0m",
      "\u001b[0;31mTypeError\u001b[0m                                 Traceback (most recent call last)",
      "\u001b[0;32m<ipython-input-7-aae8f329fc42>\u001b[0m in \u001b[0;36m<module>\u001b[0;34m\u001b[0m\n\u001b[0;32m----> 1\u001b[0;31m \u001b[0madd\u001b[0m\u001b[0;34m(\u001b[0m\u001b[0mnumber1\u001b[0m\u001b[0;34m,\u001b[0m\u001b[0mnumber2\u001b[0m\u001b[0;34m)\u001b[0m\u001b[0;34m\u001b[0m\u001b[0;34m\u001b[0m\u001b[0m\n\u001b[0m",
      "\u001b[0;32m<ipython-input-1-48bddae7e371>\u001b[0m in \u001b[0;36madd\u001b[0;34m(n1, n2)\u001b[0m\n\u001b[1;32m      1\u001b[0m \u001b[0;32mdef\u001b[0m \u001b[0madd\u001b[0m\u001b[0;34m(\u001b[0m\u001b[0mn1\u001b[0m\u001b[0;34m,\u001b[0m\u001b[0mn2\u001b[0m\u001b[0;34m)\u001b[0m\u001b[0;34m:\u001b[0m\u001b[0;34m\u001b[0m\u001b[0;34m\u001b[0m\u001b[0m\n\u001b[0;32m----> 2\u001b[0;31m     \u001b[0mprint\u001b[0m\u001b[0;34m(\u001b[0m\u001b[0mn1\u001b[0m\u001b[0;34m+\u001b[0m\u001b[0mn2\u001b[0m\u001b[0;34m)\u001b[0m\u001b[0;34m\u001b[0m\u001b[0;34m\u001b[0m\u001b[0m\n\u001b[0m",
      "\u001b[0;31mTypeError\u001b[0m: unsupported operand type(s) for +: 'int' and 'str'"
     ]
    }
   ],
   "source": [
    "add(number1,number2)\n"
   ]
  },
  {
   "cell_type": "code",
   "execution_count": 8,
   "metadata": {},
   "outputs": [],
   "source": [
    "try :\n",
    "    result = 10+ 10\n",
    "except:\n",
    "    print(\"hey it looks like you arent adding correctly\")"
   ]
  },
  {
   "cell_type": "code",
   "execution_count": 9,
   "metadata": {},
   "outputs": [
    {
     "data": {
      "text/plain": [
       "20"
      ]
     },
     "execution_count": 9,
     "metadata": {},
     "output_type": "execute_result"
    }
   ],
   "source": [
    "result"
   ]
  },
  {
   "cell_type": "code",
   "execution_count": 11,
   "metadata": {},
   "outputs": [
    {
     "name": "stdout",
     "output_type": "stream",
     "text": [
      "hey it looks like you arent adding correctly\n"
     ]
    }
   ],
   "source": [
    "try :\n",
    "    result = 10+ '10'\n",
    "except:\n",
    "    print(\"hey it looks like you arent adding correctly\")\n",
    "else:\n",
    "    print(\"Add went well\")\n",
    "    print(result)"
   ]
  },
  {
   "cell_type": "code",
   "execution_count": 84,
   "metadata": {},
   "outputs": [
    {
     "name": "stdout",
     "output_type": "stream",
     "text": [
      "Add went well\n",
      "79\n"
     ]
    }
   ],
   "source": [
    "try :\n",
    "    # want to attempt this code \n",
    "    # may have an error \n",
    "    result = 10+ 69\n",
    "except:\n",
    "    print(\"hey it looks like you arent adding correctly\")\n",
    "else:\n",
    "    print(\"Add went well\")\n",
    "    print(result)"
   ]
  },
  {
   "cell_type": "code",
   "execution_count": 85,
   "metadata": {},
   "outputs": [
    {
     "data": {
      "text/plain": [
       "79"
      ]
     },
     "execution_count": 85,
     "metadata": {},
     "output_type": "execute_result"
    }
   ],
   "source": [
    "result"
   ]
  },
  {
   "cell_type": "code",
   "execution_count": 97,
   "metadata": {},
   "outputs": [
    {
     "name": "stdout",
     "output_type": "stream",
     "text": [
      "I run always\n"
     ]
    }
   ],
   "source": [
    "try :\n",
    "    f = open('testfile','w')\n",
    "    f.write('write a test line')\n",
    "except TypeError:\n",
    "    print(\"there was type error\")\n",
    "except OSError:\n",
    "    print(\"hey you have an OS error\")\n",
    "finally:\n",
    "    print(\"I run always\")"
   ]
  },
  {
   "cell_type": "code",
   "execution_count": 87,
   "metadata": {},
   "outputs": [],
   "source": [
    "# Fibonacci series\n"
   ]
  },
  {
   "cell_type": "code",
   "execution_count": 93,
   "metadata": {},
   "outputs": [
    {
     "name": "stdout",
     "output_type": "stream",
     "text": [
      "20\n",
      "11235813213455891442333776109871597258441816765"
     ]
    }
   ],
   "source": [
    "n = int(input())\n",
    "a,b = 0,1\n",
    "for i in  range(n):\n",
    "    print(b, end = '')\n",
    "    a,b = b ,a+b"
   ]
  },
  {
   "cell_type": "code",
   "execution_count": 99,
   "metadata": {},
   "outputs": [
    {
     "name": "stdout",
     "output_type": "stream",
     "text": [
      "hey you have an OS error\n",
      "I run always\n"
     ]
    }
   ],
   "source": [
    "try :\n",
    "    f = open('testfile','r')\n",
    "    f.write('write a test line')\n",
    "except TypeError:\n",
    "    print(\"there was type error\")\n",
    "except OSError:\n",
    "    print(\"hey you have an OS error\")\n",
    "finally:\n",
    "    print(\"I run always\")"
   ]
  },
  {
   "cell_type": "code",
   "execution_count": 100,
   "metadata": {},
   "outputs": [
    {
     "name": "stdout",
     "output_type": "stream",
     "text": [
      "All other exceptions\n",
      "I run always\n"
     ]
    }
   ],
   "source": [
    "try :\n",
    "    f = open('testfile','r')\n",
    "    f.write('write a test line')\n",
    "except TypeError:\n",
    "    print(\"there was type error\")\n",
    "except :\n",
    "    print(\"All other exceptions\")\n",
    "finally:\n",
    "    print(\"I run always\")"
   ]
  },
  {
   "cell_type": "code",
   "execution_count": 101,
   "metadata": {},
   "outputs": [
    {
     "data": {
      "text/plain": [
       "-1"
      ]
     },
     "execution_count": 101,
     "metadata": {},
     "output_type": "execute_result"
    }
   ],
   "source": [
    "16//3  + 16//-3"
   ]
  },
  {
   "cell_type": "code",
   "execution_count": 102,
   "metadata": {},
   "outputs": [
    {
     "data": {
      "text/plain": [
       "5"
      ]
     },
     "execution_count": 102,
     "metadata": {},
     "output_type": "execute_result"
    }
   ],
   "source": [
    "16//3"
   ]
  },
  {
   "cell_type": "code",
   "execution_count": 103,
   "metadata": {},
   "outputs": [
    {
     "data": {
      "text/plain": [
       "-6"
      ]
     },
     "execution_count": 103,
     "metadata": {},
     "output_type": "execute_result"
    }
   ],
   "source": [
    "16//-3"
   ]
  },
  {
   "cell_type": "code",
   "execution_count": 104,
   "metadata": {},
   "outputs": [
    {
     "name": "stdout",
     "output_type": "stream",
     "text": [
      "False\n",
      "True\n"
     ]
    }
   ],
   "source": [
    "a,b = 257,257\n",
    "c,d = 25,25\n",
    "print(a is b)\n",
    "print(c is d)"
   ]
  },
  {
   "cell_type": "code",
   "execution_count": 105,
   "metadata": {},
   "outputs": [
    {
     "data": {
      "text/plain": [
       "5.333333333333333"
      ]
     },
     "execution_count": 105,
     "metadata": {},
     "output_type": "execute_result"
    }
   ],
   "source": [
    "16/3"
   ]
  },
  {
   "cell_type": "code",
   "execution_count": 106,
   "metadata": {},
   "outputs": [
    {
     "data": {
      "text/plain": [
       "-5.333333333333333"
      ]
     },
     "execution_count": 106,
     "metadata": {},
     "output_type": "execute_result"
    }
   ],
   "source": [
    "-16/3"
   ]
  },
  {
   "cell_type": "code",
   "execution_count": 114,
   "metadata": {},
   "outputs": [
    {
     "name": "stdout",
     "output_type": "stream",
     "text": [
      "1\n",
      "1\n",
      "3\n",
      "5\n",
      "Yes\n"
     ]
    }
   ],
   "source": [
    "sx = int(input())\n",
    "sy = int(input())\n",
    "tx = int(input())\n",
    "ty = int(input())\n",
    "class pout:\n",
    "    def __init__(self,sx,sy):\n",
    "        self.sx = sx\n",
    "        self.sy = sy \n",
    "    def out(self,tx,ty):\n",
    "        if tx == sx+sy and ty == sy:\n",
    "            return \"Yes\"\n",
    "        elif tx == sx and ty == sx+sy:\n",
    "            return \"Yes\"\n",
    "        elif tx == sx and ty == sy:\n",
    "            return \"Yes\"\n",
    "        elif tx >= sx+sy and ty >= sx +sy:\n",
    "            return \"Yes\"\n",
    "        else:\n",
    "            return \"No\"\n",
    "p = pout(sx,sy)\n",
    "print(p.out(tx,ty))"
   ]
  },
  {
   "cell_type": "code",
   "execution_count": 115,
   "metadata": {},
   "outputs": [
    {
     "name": "stdout",
     "output_type": "stream",
     "text": [
      "1\n",
      "1\n",
      "3\n",
      "5\n"
     ]
    }
   ],
   "source": [
    "sx = int(input())\n",
    "sy = int(input())\n",
    "tx = int(input())\n",
    "ty = int(input())\n",
    "class pout:\n",
    "    def __init__(self,sx,sy):\n",
    "        self.sx = sx\n",
    "        self.sy = sy \n",
    "    def reachingPoints(self, sx, sy, tx, ty):\n",
    "        while sx < tx and sy < ty:\n",
    "            tx, ty = tx % ty, ty % tx\n",
    "        return sx == tx and sy <= ty and (ty - sy) % sx == 0 or \\\n",
    "               sy == ty and sx <= tx and (tx - sx) % sy == 0"
   ]
  },
  {
   "cell_type": "code",
   "execution_count": 124,
   "metadata": {},
   "outputs": [
    {
     "name": "stdout",
     "output_type": "stream",
     "text": [
      "1\n",
      "1\n",
      "3\n",
      "5\n"
     ]
    },
    {
     "ename": "TypeError",
     "evalue": "out() missing 2 required positional arguments: 'tx' and 'ty'",
     "output_type": "error",
     "traceback": [
      "\u001b[0;31m---------------------------------------------------------------------------\u001b[0m",
      "\u001b[0;31mTypeError\u001b[0m                                 Traceback (most recent call last)",
      "\u001b[0;32m<ipython-input-124-0afeaffda982>\u001b[0m in \u001b[0;36m<module>\u001b[0;34m\u001b[0m\n\u001b[1;32m     22\u001b[0m \u001b[0;34m\u001b[0m\u001b[0m\n\u001b[1;32m     23\u001b[0m \u001b[0mp\u001b[0m \u001b[0;34m=\u001b[0m \u001b[0mpout\u001b[0m\u001b[0;34m(\u001b[0m\u001b[0msx\u001b[0m\u001b[0;34m,\u001b[0m\u001b[0msy\u001b[0m\u001b[0;34m)\u001b[0m\u001b[0;34m\u001b[0m\u001b[0;34m\u001b[0m\u001b[0m\n\u001b[0;32m---> 24\u001b[0;31m \u001b[0mprint\u001b[0m\u001b[0;34m(\u001b[0m\u001b[0mp\u001b[0m\u001b[0;34m.\u001b[0m\u001b[0mout\u001b[0m\u001b[0;34m(\u001b[0m\u001b[0;36m3\u001b[0m\u001b[0;34m,\u001b[0m\u001b[0;36m5\u001b[0m\u001b[0;34m)\u001b[0m\u001b[0;34m)\u001b[0m\u001b[0;34m\u001b[0m\u001b[0;34m\u001b[0m\u001b[0m\n\u001b[0m",
      "\u001b[0;31mTypeError\u001b[0m: out() missing 2 required positional arguments: 'tx' and 'ty'"
     ]
    }
   ],
   "source": [
    "sx = int(input())\n",
    "sy = int(input())\n",
    "tx = int(input())\n",
    "ty = int(input())\n",
    "class pout:\n",
    "    def __init__(self,sx,sy):\n",
    "        self.sx = sx\n",
    "        self.sy = sy \n",
    "    def out(self, sx, sy, tx, ty):\n",
    "        if tx<sx or ty<sy:\n",
    "            return False\n",
    "        elif tx==sx:\n",
    "            if (ty-sy)%sx==0:\n",
    "                return True\n",
    "            else:\n",
    "                return False\n",
    "        elif ty==sy:\n",
    "            if  (tx-sx)%sy==0:\n",
    "                return True\n",
    "            else:\n",
    "                return False\n",
    "        \n",
    "p = pout(sx,sy)\n",
    "print(p.out(3,5))"
   ]
  },
  {
   "cell_type": "code",
   "execution_count": null,
   "metadata": {},
   "outputs": [],
   "source": []
  }
 ],
 "metadata": {
  "kernelspec": {
   "display_name": "Python 3",
   "language": "python",
   "name": "python3"
  },
  "language_info": {
   "codemirror_mode": {
    "name": "ipython",
    "version": 3
   },
   "file_extension": ".py",
   "mimetype": "text/x-python",
   "name": "python",
   "nbconvert_exporter": "python",
   "pygments_lexer": "ipython3",
   "version": "3.7.6"
  }
 },
 "nbformat": 4,
 "nbformat_minor": 4
}
